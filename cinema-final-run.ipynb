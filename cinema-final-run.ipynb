{
 "cells": [
  {
   "cell_type": "code",
   "execution_count": 16,
   "metadata": {},
   "outputs": [],
   "source": [
    "from selenium import webdriver\n",
    "from datetime import date \n",
    "from datetime import timedelta  "
   ]
  },
  {
   "cell_type": "code",
   "execution_count": 21,
   "metadata": {},
   "outputs": [],
   "source": [
    "def GetDailyMovieList(url, classname,chrome_path = 'driver/chromedriver'):\n",
    "    titles = []\n",
    "    driver = webdriver.Chrome(chrome_path)\n",
    "    driver.get(url)\n",
    "    a = driver.find_elements_by_class_name(classname)\n",
    "    for element in a:\n",
    "        titles.append(element.text)\n",
    "    driver.close()\n",
    "    return titles"
   ]
  },
  {
   "cell_type": "code",
   "execution_count": 43,
   "metadata": {},
   "outputs": [],
   "source": [
    "classname='qb-movie-name'\n",
    "#cinema_location = bonarka\n",
    "span = 7\n",
    "\n",
    "url = 'https://www.cinema-city.pl/kina/bonarka/1090#/buy-tickets-by-cinema?in-cinema=1090&at='+str(date.today())+'&view-mode=list'\n",
    "url2 = 'https://www.cinema-city.pl/kina/bonarka/1090#/buy-tickets-by-cinema?in-cinema=1090&at='+str(date.today()+timedelta(days=span))+'&view-mode=list'\n",
    "\n",
    "first = GetDailyMovieList(url, classname)\n",
    "second = GetDailyMovieList(url2, classname)"
   ]
  },
  {
   "cell_type": "markdown",
   "metadata": {},
   "source": [
    "## Filmy 'wylatujące' w tym tygodniu z kina"
   ]
  },
  {
   "cell_type": "code",
   "execution_count": 44,
   "metadata": {},
   "outputs": [
    {
     "data": {
      "text/plain": [
       "['1917',\n",
       " '365 DNI',\n",
       " 'BAD BOYS FOR LIFE',\n",
       " 'BAYALA I OSTATNI SMOK',\n",
       " 'BOŻE CIAŁO',\n",
       " 'CHŁOPIEC I WILK',\n",
       " 'DOKTOR DOLITTLE',\n",
       " 'DŻENTELMENI',\n",
       " 'GANG ZWIERZAKÓW',\n",
       " 'HARLEY QUINN: PTAKI NOCY',\n",
       " 'JAK ZOSTAŁEM GANGSTEREM. HISTORIA PRAWDZIWA',\n",
       " 'JOJO RABBIT',\n",
       " 'JOKER',\n",
       " 'JUMANJI: NASTĘPNY POZIOM',\n",
       " 'KŁAMSTEWKO',\n",
       " 'KRAINA LODU 2',\n",
       " 'MAŁE KOBIETKI',\n",
       " 'MAŁGOSIA I JAŚ',\n",
       " 'MAYDAY',\n",
       " 'PARASITE',\n",
       " 'PSY 3. W IMIĘ ZASAD',\n",
       " 'SUPERPIES I TURBOKOT',\n",
       " 'ŚNIEŻKA I FANTASTYCZNA SIÓDEMKA',\n",
       " 'TAJNI I FAJNI',\n",
       " 'URWIS',\n",
       " 'WYSPA FANTAZJI',\n",
       " 'ZENEK',\n",
       " 'LADIES NIGHT - SWINGERSI',\n",
       " 'CZARODZIEJSKI FLET',\n",
       " 'ŁUCJA Z LAMMERMOORU']"
      ]
     },
     "execution_count": 44,
     "metadata": {},
     "output_type": "execute_result"
    }
   ],
   "source": [
    "[ x for x in first if not x in second]"
   ]
  },
  {
   "cell_type": "markdown",
   "metadata": {},
   "source": [
    "## Oraz premiery lub filmy powracające"
   ]
  },
  {
   "cell_type": "code",
   "execution_count": 45,
   "metadata": {},
   "outputs": [
    {
     "data": {
      "text/plain": [
       "['BAD BOY']"
      ]
     },
     "execution_count": 45,
     "metadata": {},
     "output_type": "execute_result"
    }
   ],
   "source": [
    "[ x for x in second if not x in first]"
   ]
  }
 ],
 "metadata": {
  "kernelspec": {
   "display_name": "Python 3",
   "language": "python",
   "name": "python3"
  },
  "language_info": {
   "codemirror_mode": {
    "name": "ipython",
    "version": 3
   },
   "file_extension": ".py",
   "mimetype": "text/x-python",
   "name": "python",
   "nbconvert_exporter": "python",
   "pygments_lexer": "ipython3",
   "version": "3.7.5"
  }
 },
 "nbformat": 4,
 "nbformat_minor": 2
}
