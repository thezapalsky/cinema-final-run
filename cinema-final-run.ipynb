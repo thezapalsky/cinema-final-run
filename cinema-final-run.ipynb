{
 "cells": [
  {
   "cell_type": "code",
   "execution_count": 1,
   "metadata": {},
   "outputs": [],
   "source": [
    "from selenium.webdriver.chrome.options import Options\n",
    "from selenium import webdriver\n",
    "from selenium.webdriver.common.by import By\n",
    "\n",
    "from datetime import date \n",
    "from datetime import timedelta\n",
    "from time import sleep\n",
    "import os"
   ]
  },
  {
   "cell_type": "code",
   "execution_count": 2,
   "metadata": {},
   "outputs": [],
   "source": [
    "def GetDailyMovieList(url, classname, chrome_path = 'driver/chromedriver'):\n",
    "    titles = []\n",
    "    \n",
    "    options = Options()\n",
    "    options.headless = True\n",
    "    \n",
    "    #driver = webdriver.Chrome(chrome_path)\n",
    "    driver = webdriver.Chrome(options=options)\n",
    "    driver.get(url)\n",
    "    sleep(10)\n",
    "    \n",
    "    #a = driver.find_elements_by_class_name(classname)\n",
    "    a = driver.find_elements(By.CLASS_NAME, classname)\n",
    "    for element in a:\n",
    "        titles.append(element.text)\n",
    "    driver.close()\n",
    "    return titles"
   ]
  },
  {
   "cell_type": "code",
   "execution_count": 3,
   "metadata": {},
   "outputs": [
    {
     "name": "stdout",
     "output_type": "stream",
     "text": [
      "CPU times: user 25.1 ms, sys: 38.1 ms, total: 63.3 ms\n",
      "Wall time: 45.7 s\n"
     ]
    },
    {
     "data": {
      "text/plain": [
       "(9, 0)"
      ]
     },
     "execution_count": 3,
     "metadata": {},
     "output_type": "execute_result"
    }
   ],
   "source": [
    "%%time\n",
    "\n",
    "classname='qb-movie-name'\n",
    "#cinema_location = bonarka\n",
    "span = 7\n",
    "\n",
    "url = 'https://www.cinema-city.pl/kina/bonarka/1090#/buy-tickets-by-cinema?in-cinema=1090&at='+str(date.today())+'&view-mode=list'\n",
    "url2 = 'https://www.cinema-city.pl/kina/bonarka/1090#/buy-tickets-by-cinema?in-cinema=1090&at='+str(date.today()+timedelta(days=span))+'&view-mode=list'\n",
    "\n",
    "first = GetDailyMovieList(url, classname)\n",
    "second = GetDailyMovieList(url2, classname)\n",
    "\n",
    "len(first), len(second)"
   ]
  },
  {
   "cell_type": "code",
   "execution_count": 4,
   "metadata": {},
   "outputs": [
    {
     "data": {
      "text/plain": [
       "('https://www.cinema-city.pl/kina/bonarka/1090#/buy-tickets-by-cinema?in-cinema=1090&at=2023-01-18&view-mode=list',\n",
       " 'https://www.cinema-city.pl/kina/bonarka/1090#/buy-tickets-by-cinema?in-cinema=1090&at=2023-01-25&view-mode=list')"
      ]
     },
     "execution_count": 4,
     "metadata": {},
     "output_type": "execute_result"
    }
   ],
   "source": [
    "url, url2"
   ]
  },
  {
   "cell_type": "code",
   "execution_count": 5,
   "metadata": {},
   "outputs": [
    {
     "data": {
      "text/plain": [
       "(9, 0)"
      ]
     },
     "execution_count": 5,
     "metadata": {},
     "output_type": "execute_result"
    }
   ],
   "source": [
    "len(first), len(second)"
   ]
  },
  {
   "cell_type": "markdown",
   "metadata": {},
   "source": [
    "## Filmy 'wylatujące' w tym tygodniu z kina"
   ]
  },
  {
   "cell_type": "code",
   "execution_count": 6,
   "metadata": {},
   "outputs": [
    {
     "data": {
      "text/plain": [
       "['AVATAR: ISTOTA WODY',\n",
       " 'FABELMANOWIE',\n",
       " 'GRA FORTUNY',\n",
       " 'M3GAN',\n",
       " 'NA TWOIM MIEJSCU',\n",
       " 'ŚLUB DOSKONAŁY',\n",
       " 'WYSTRZAŁOWE WESELE',\n",
       " 'BILLIE EILISH: LIVE AT THE O2',\n",
       " 'BTS: YET TO COME IN CINEMAS']"
      ]
     },
     "execution_count": 6,
     "metadata": {},
     "output_type": "execute_result"
    }
   ],
   "source": [
    "outs = [ x for x in first if not x in second]\n",
    "#outs = '\\n'.join(outs)\n",
    "outs"
   ]
  },
  {
   "cell_type": "markdown",
   "metadata": {},
   "source": [
    "## Oraz premiery lub filmy powracające"
   ]
  },
  {
   "cell_type": "code",
   "execution_count": 7,
   "metadata": {},
   "outputs": [],
   "source": [
    "ins = [ x for x in second if not x in first]\n",
    "ins = '\\n'.join(ins)"
   ]
  },
  {
   "cell_type": "code",
   "execution_count": 8,
   "metadata": {},
   "outputs": [],
   "source": [
    "def notify(title, text):\n",
    "    os.system(\"\"\"\n",
    "              osascript -e 'display notification \"{}\" with title \"{}\"'\n",
    "              \"\"\".format(text, title))\n",
    "for out in outs:\n",
    "    notify(\"Out this week\", out)\n",
    "for _in in ins:\n",
    "    notify(\"In this week\", _in)"
   ]
  }
 ],
 "metadata": {
  "kernelspec": {
   "display_name": "Python 3 (ipykernel)",
   "language": "python",
   "name": "python3"
  },
  "language_info": {
   "codemirror_mode": {
    "name": "ipython",
    "version": 3
   },
   "file_extension": ".py",
   "mimetype": "text/x-python",
   "name": "python",
   "nbconvert_exporter": "python",
   "pygments_lexer": "ipython3",
   "version": "3.8.2"
  }
 },
 "nbformat": 4,
 "nbformat_minor": 2
}
